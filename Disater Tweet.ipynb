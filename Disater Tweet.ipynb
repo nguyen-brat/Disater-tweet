{
 "cells": [
  {
   "cell_type": "code",
   "execution_count": 1,
   "id": "c4cafb64",
   "metadata": {},
   "outputs": [],
   "source": [
    "import tensorflow as tf\n",
    "from tensorflow import keras\n",
    "import matplotlib.pyplot as plt\n",
    "import pandas as pd\n",
    "import numpy as np\n",
    "import os\n",
    "import re"
   ]
  },
  {
   "cell_type": "markdown",
   "id": "2a94bb18",
   "metadata": {},
   "source": [
    "# Preprocessing"
   ]
  },
  {
   "cell_type": "code",
   "execution_count": 2,
   "id": "049f143c",
   "metadata": {},
   "outputs": [],
   "source": [
    "file_path = 'D:\\Data'\n",
    "train_path = os.path.join(file_path, 'preprocess_data.csv')\n",
    "test_path = os.path.join(file_path, 'preprocess_test.csv')\n",
    "sam_sub = os.path.join(file_path, 'sample_submission.csv')"
   ]
  },
  {
   "cell_type": "code",
   "execution_count": 3,
   "id": "c469f525",
   "metadata": {},
   "outputs": [],
   "source": [
    "df_sample = pd.read_csv(sam_sub)\n",
    "df_test = pd.read_csv(test_path)\n",
    "df = pd.read_csv(train_path)"
   ]
  },
  {
   "cell_type": "code",
   "execution_count": 4,
   "id": "0a101899",
   "metadata": {},
   "outputs": [],
   "source": [
    "def preprocess(text):\n",
    "    text = text.lower()\n",
    "    text = re.sub(r\"(http|https)://[a-zA-Z0-9\\.\\%\\$\\!\\?\\&\\=-]+(/[a-zA-Z0-9\\.\\%\\$\\!\\?\\&\\=-]+)*\", \"\",text)\n",
    "    text = re.sub(r'[^a-zA-Z0-9]', ' ', text)\n",
    "    text = ' '.join(text.split())\n",
    "    return text"
   ]
  },
  {
   "cell_type": "code",
   "execution_count": 4,
   "id": "d2a71305",
   "metadata": {},
   "outputs": [],
   "source": [
    "df_copy = df.copy()\n",
    "#df_copy['text'] = df['text'].apply(preprocess)"
   ]
  },
  {
   "cell_type": "code",
   "execution_count": 10,
   "id": "193e0a27",
   "metadata": {},
   "outputs": [],
   "source": [
    "#df_test['text'] = df['text'].apply(preprocess)"
   ]
  },
  {
   "cell_type": "code",
   "execution_count": 5,
   "id": "0545b464",
   "metadata": {},
   "outputs": [],
   "source": [
    "from collections import Counter\n",
    "vocabulary = Counter()\n",
    "for i in range(len(df_copy)):\n",
    "    vocabulary.update(df_copy.loc[i, 'text'].split())\n",
    "for i in range(len(df_test)):\n",
    "    vocabulary.update(df_test.loc[i, 'text'].split())\n",
    "vocabulary_size = 1500\n",
    "vocabulary_truncate = [word for word, count in vocabulary.most_common()[:vocabulary_size]]"
   ]
  },
  {
   "cell_type": "code",
   "execution_count": 6,
   "id": "7877ac49",
   "metadata": {},
   "outputs": [],
   "source": [
    "words = tf.constant(vocabulary_truncate)\n",
    "words_id = tf.range(len(vocabulary_truncate), dtype = tf.int64)\n",
    "vocab_init = tf.lookup.KeyValueTensorInitializer(words, words_id)\n",
    "num_oov_buckets = 100\n",
    "table = tf.lookup.StaticVocabularyTable(vocab_init, num_oov_buckets)"
   ]
  },
  {
   "cell_type": "code",
   "execution_count": 129,
   "id": "10062d32",
   "metadata": {},
   "outputs": [
    {
     "data": {
      "text/plain": [
       "<tf.Tensor: shape=(1, 16), dtype=int64, numpy=\n",
       "array([[1541, 1573, 1520,  119, 1550,  244,  598, 1553, 1567,  278,    7,\n",
       "           1,  481, 1555,   87, 1548]], dtype=int64)>"
      ]
     },
     "execution_count": 129,
     "metadata": {},
     "output_type": "execute_result"
    }
   ],
   "source": [
    "table.lookup(tf.constant([\"barbados bridgetown jamaica two cars set ablaze santa cruz head of the st elizabeth police superintende\".split()])) + 1"
   ]
  },
  {
   "cell_type": "code",
   "execution_count": 7,
   "id": "4fa32acc",
   "metadata": {},
   "outputs": [],
   "source": [
    "list_input = []\n",
    "list_output = []\n",
    "for i  in range(len(df_copy)):\n",
    "    list_input.append(table.lookup(tf.constant(df_copy.loc[i, 'text'].split())) + 1)\n",
    "    list_output.append([df_copy.loc[i, 'target']])"
   ]
  },
  {
   "cell_type": "code",
   "execution_count": 8,
   "id": "b01162eb",
   "metadata": {},
   "outputs": [],
   "source": [
    "test_list_input = []\n",
    "for i  in range(len(df_test)):\n",
    "    test_list_input.append(table.lookup(tf.constant(df_test.loc[i, 'text'].split())) + 1)"
   ]
  },
  {
   "cell_type": "code",
   "execution_count": 9,
   "id": "55de299f",
   "metadata": {},
   "outputs": [],
   "source": [
    "def tensor_to_Dense(tensors):\n",
    "    values = tf.concat(tensors, axis=0)\n",
    "    lens = tf.stack([tf.shape(t, out_type=tf.int64)[0] for t in tensors])\n",
    "    dataset = tf.RaggedTensor.from_row_lengths(values, lens)\n",
    "    dataset = dataset.to_tensor()\n",
    "    return dataset"
   ]
  },
  {
   "cell_type": "code",
   "execution_count": 10,
   "id": "a9071228",
   "metadata": {},
   "outputs": [],
   "source": [
    "input_data = tensor_to_Dense(list_input)\n",
    "output_data = tensor_to_Dense(list_output)\n",
    "test_input = tensor_to_Dense(test_list_input)"
   ]
  },
  {
   "cell_type": "code",
   "execution_count": 11,
   "id": "98499dcb",
   "metadata": {},
   "outputs": [],
   "source": [
    "train_size = int(len(df) * 0.9)\n",
    "train_input = input_data[:train_size]\n",
    "val_input = input_data[train_size:]\n",
    "train_output = output_data[:train_size]\n",
    "val_output = output_data[train_size:]"
   ]
  },
  {
   "cell_type": "code",
   "execution_count": 12,
   "id": "4c6f7746",
   "metadata": {},
   "outputs": [],
   "source": [
    "train_output = tf.cast(train_output, tf.int64)\n",
    "val_output = tf.cast(val_output, tf.int64)"
   ]
  },
  {
   "cell_type": "code",
   "execution_count": 13,
   "id": "868ebfe3",
   "metadata": {},
   "outputs": [
    {
     "data": {
      "text/plain": [
       "<PrefetchDataset shapes: ((None, 34), (None, 1)), types: (tf.int64, tf.int64)>"
      ]
     },
     "execution_count": 13,
     "metadata": {},
     "output_type": "execute_result"
    }
   ],
   "source": [
    "train = tf.concat([train_input, train_output], axis = 1)\n",
    "train = tf.data.Dataset.from_tensor_slices(train).shuffle(1000).batch(32)\n",
    "train = train.map(lambda data : (data[:, :-1], data[:, -1:]))\n",
    "train.prefetch(tf.data.AUTOTUNE)\n",
    "\n",
    "val = tf.concat([val_input, val_output], axis = 1)\n",
    "val = tf.data.Dataset.from_tensor_slices(val).shuffle(1000).batch(32)\n",
    "val = val.map(lambda data : (data[:, :-1], data[:, -1:]))\n",
    "val.prefetch(tf.data.AUTOTUNE)"
   ]
  },
  {
   "cell_type": "code",
   "execution_count": 63,
   "id": "030c8216",
   "metadata": {},
   "outputs": [
    {
     "data": {
      "image/png": "[encoded data removed]",
      "text/plain": [
       "<Figure size 432x288 with 1 Axes>"
      ]
     },
     "metadata": {
      "needs_background": "light"
     },
     "output_type": "display_data"
    }
   ],
   "source": [
    "list_freq = [time for word, time in vocabulary.most_common()]\n",
    "np_list_freq = np.cumsum(list_freq)\n",
    "bins = [0,1000,2000,3000,4000,5000]\n",
    "plt.plot(np_list_freq, np.linspace(1, len(list_freq), len(list_freq)), 'r-')\n",
    "plt.show()"
   ]
  },
  {
   "cell_type": "code",
   "execution_count": 71,
   "id": "c8e86f0d",
   "metadata": {},
   "outputs": [
    {
     "name": "stdout",
     "output_type": "stream",
     "text": [
      "3990\n"
     ]
    }
   ],
   "source": [
    "for i in range(len(list_freq)):\n",
    "    if np_list_freq[i] >= np_list_freq[-1]*90/100:\n",
    "        index = i + 1\n",
    "        print(index)\n",
    "        break"
   ]
  },
  {
   "cell_type": "code",
   "execution_count": 65,
   "id": "3aec949d",
   "metadata": {},
   "outputs": [
    {
     "data": {
      "text/plain": [
       "1"
      ]
     },
     "execution_count": 65,
     "metadata": {},
     "output_type": "execute_result"
    }
   ],
   "source": [
    "list_freq[-1]"
   ]
  },
  {
   "cell_type": "code",
   "execution_count": 97,
   "id": "3fdadebb",
   "metadata": {},
   "outputs": [
    {
     "data": {
      "text/plain": [
       "11"
      ]
     },
     "execution_count": 97,
     "metadata": {},
     "output_type": "execute_result"
    }
   ],
   "source": [
    "list_freq[1800]"
   ]
  },
  {
   "cell_type": "markdown",
   "id": "8be57317",
   "metadata": {},
   "source": [
    "# Model LSTM"
   ]
  },
  {
   "cell_type": "code",
   "execution_count": 14,
   "id": "e6e36941",
   "metadata": {},
   "outputs": [],
   "source": [
    "class round_accuracy(keras.metrics.Metric):\n",
    "  def __init__(self, **kwargs):\n",
    "    super().__init__(**kwargs)\n",
    "    self.accuracy = tf.keras.metrics.Accuracy(name=\"accuracy\", dtype=None)\n",
    "    self.total = self.add_weight('total', initializer = 'zeros')\n",
    "    self.count = self.add_weight('count', initializer = 'zeros')\n",
    "  def update_state(self, y_true, y_pred, sample_weight = None):\n",
    "    y_pred = tf.math.round(y_pred)\n",
    "    metric = self.accuracy(y_true, y_pred)\n",
    "    self.total.assign_add(metric)\n",
    "    self.count.assign_add(tf.cast(1, tf.float32))\n",
    "  def result(self):\n",
    "    return self.total/self.count"
   ]
  },
  {
   "cell_type": "code",
   "execution_count": 15,
   "id": "86b36d07",
   "metadata": {},
   "outputs": [],
   "source": [
    "custom_metric = round_accuracy()"
   ]
  },
  {
   "cell_type": "code",
   "execution_count": 16,
   "id": "8c753f1d",
   "metadata": {},
   "outputs": [],
   "source": [
    "optimizer = tf.keras.optimizers.Adam(\n",
    "    learning_rate=3e-5,\n",
    ")"
   ]
  },
  {
   "cell_type": "code",
   "execution_count": 25,
   "id": "b0fa7c18",
   "metadata": {},
   "outputs": [],
   "source": [
    "model = keras.Sequential([\n",
    "    keras.layers.Embedding(vocabulary_size + num_oov_buckets, 128, mask_zero = True,\n",
    "                          input_shape = [None]),\n",
    "    keras.layers.LSTM(8, return_sequences = True,\n",
    "                     recurrent_regularizer = tf.keras.regularizers.L1L2(l1=1e-3, l2=1e-3),\n",
    "                     #activation = 'relu', kernel_initializer = 'he_normal'\n",
    "                     ),\n",
    "    keras.layers.Dropout(0.2),\n",
    "    #keras.layers.LSTM(32, return_sequences = True,\n",
    "    #                  recurrent_regularizer = tf.keras.regularizers.L1L2(l1=1e-3, l2=1e-3)\n",
    "    #                 ),\n",
    "    #keras.layers.Dropout(0.2),\n",
    "    keras.layers.LSTM(8, recurrent_regularizer = tf.keras.regularizers.L1L2(l1=1e-3, l2=1e-3),\n",
    "                     #activation = 'relu', kernel_initializer = 'he_normal'\n",
    "                     ),\n",
    "    keras.layers.Dense(1, activation = \"sigmoid\")\n",
    "])"
   ]
  },
  {
   "cell_type": "code",
   "execution_count": 26,
   "id": "e31156bf",
   "metadata": {},
   "outputs": [],
   "source": [
    "model.compile(loss = \"binary_crossentropy\", optimizer = optimizer, metrics = [custom_metric])"
   ]
  },
  {
   "cell_type": "code",
   "execution_count": 27,
   "id": "5a5791a4",
   "metadata": {},
   "outputs": [],
   "source": [
    "early_stoppping = keras.callbacks.EarlyStopping(patience = 5,\n",
    "                                               restore_best_weights = True)"
   ]
  },
  {
   "cell_type": "code",
   "execution_count": 28,
   "id": "c7a19a5b",
   "metadata": {
    "scrolled": true
   },
   "outputs": [
    {
     "name": "stdout",
     "output_type": "stream",
     "text": [
      "Epoch 1/500\n",
      "215/215 [==============================] - 10s 26ms/step - loss: 0.7668 - round_accuracy: 0.6437 - val_loss: 0.7569 - val_round_accuracy: 0.5761\n",
      "Epoch 2/500\n",
      "215/215 [==============================] - 4s 19ms/step - loss: 0.7393 - round_accuracy: 0.6118 - val_loss: 0.7310 - val_round_accuracy: 0.5784\n",
      "Epoch 3/500\n",
      "215/215 [==============================] - 4s 19ms/step - loss: 0.7057 - round_accuracy: 0.6729 - val_loss: 0.6979 - val_round_accuracy: 0.6815\n",
      "Epoch 4/500\n",
      "215/215 [==============================] - 4s 19ms/step - loss: 0.6686 - round_accuracy: 0.7372 - val_loss: 0.6630 - val_round_accuracy: 0.7632\n",
      "Epoch 5/500\n",
      "215/215 [==============================] - 4s 20ms/step - loss: 0.6351 - round_accuracy: 0.7788 - val_loss: 0.6333 - val_round_accuracy: 0.7541\n",
      "Epoch 6/500\n",
      "215/215 [==============================] - 4s 20ms/step - loss: 0.6061 - round_accuracy: 0.8023 - val_loss: 0.6104 - val_round_accuracy: 0.7872\n",
      "Epoch 7/500\n",
      "215/215 [==============================] - 4s 20ms/step - loss: 0.5831 - round_accuracy: 0.8111 - val_loss: 0.5931 - val_round_accuracy: 0.7822\n",
      "Epoch 8/500\n",
      "215/215 [==============================] - 4s 19ms/step - loss: 0.5639 - round_accuracy: 0.8239 - val_loss: 0.5799 - val_round_accuracy: 0.7614\n",
      "Epoch 9/500\n",
      "215/215 [==============================] - 4s 19ms/step - loss: 0.5478 - round_accuracy: 0.8211 - val_loss: 0.5699 - val_round_accuracy: 0.7868\n",
      "Epoch 10/500\n",
      "215/215 [==============================] - 4s 19ms/step - loss: 0.5341 - round_accuracy: 0.8292 - val_loss: 0.5619 - val_round_accuracy: 0.7695\n",
      "Epoch 11/500\n",
      "215/215 [==============================] - 4s 19ms/step - loss: 0.5217 - round_accuracy: 0.8314 - val_loss: 0.5559 - val_round_accuracy: 0.7824\n",
      "Epoch 12/500\n",
      "215/215 [==============================] - 4s 19ms/step - loss: 0.5102 - round_accuracy: 0.8322 - val_loss: 0.5508 - val_round_accuracy: 0.7873\n",
      "Epoch 13/500\n",
      "215/215 [==============================] - 4s 19ms/step - loss: 0.4999 - round_accuracy: 0.8360 - val_loss: 0.5463 - val_round_accuracy: 0.7658\n",
      "Epoch 14/500\n",
      "215/215 [==============================] - 4s 19ms/step - loss: 0.4907 - round_accuracy: 0.8453 - val_loss: 0.5425 - val_round_accuracy: 0.7881\n",
      "Epoch 15/500\n",
      "215/215 [==============================] - 4s 19ms/step - loss: 0.4817 - round_accuracy: 0.8404 - val_loss: 0.5398 - val_round_accuracy: 0.7926\n",
      "Epoch 16/500\n",
      "215/215 [==============================] - 4s 19ms/step - loss: 0.4726 - round_accuracy: 0.8509 - val_loss: 0.5372 - val_round_accuracy: 0.7813\n",
      "Epoch 17/500\n",
      "215/215 [==============================] - 4s 18ms/step - loss: 0.4643 - round_accuracy: 0.8504 - val_loss: 0.5352 - val_round_accuracy: 0.7580\n",
      "Epoch 18/500\n",
      "215/215 [==============================] - 4s 19ms/step - loss: 0.4572 - round_accuracy: 0.8580 - val_loss: 0.5340 - val_round_accuracy: 0.7980\n",
      "Epoch 19/500\n",
      "215/215 [==============================] - 4s 19ms/step - loss: 0.4497 - round_accuracy: 0.8562 - val_loss: 0.5328 - val_round_accuracy: 0.7642\n",
      "Epoch 20/500\n",
      "215/215 [==============================] - 4s 19ms/step - loss: 0.4423 - round_accuracy: 0.8672 - val_loss: 0.5325 - val_round_accuracy: 0.7628\n",
      "Epoch 21/500\n",
      "215/215 [==============================] - 4s 19ms/step - loss: 0.4357 - round_accuracy: 0.8655 - val_loss: 0.5311 - val_round_accuracy: 0.7698\n",
      "Epoch 22/500\n",
      "215/215 [==============================] - 4s 19ms/step - loss: 0.4303 - round_accuracy: 0.8682 - val_loss: 0.5313 - val_round_accuracy: 0.7736\n",
      "Epoch 23/500\n",
      "215/215 [==============================] - 4s 19ms/step - loss: 0.4241 - round_accuracy: 0.8701 - val_loss: 0.5311 - val_round_accuracy: 0.7777\n",
      "Epoch 24/500\n",
      "215/215 [==============================] - 4s 19ms/step - loss: 0.4180 - round_accuracy: 0.8730 - val_loss: 0.5314 - val_round_accuracy: 0.7799\n",
      "Epoch 25/500\n",
      "215/215 [==============================] - 4s 19ms/step - loss: 0.4123 - round_accuracy: 0.8735 - val_loss: 0.5320 - val_round_accuracy: 0.7694\n",
      "Epoch 26/500\n",
      "215/215 [==============================] - 4s 19ms/step - loss: 0.4075 - round_accuracy: 0.8700 - val_loss: 0.5317 - val_round_accuracy: 0.7896\n",
      "Epoch 27/500\n",
      "215/215 [==============================] - 4s 19ms/step - loss: 0.4023 - round_accuracy: 0.8798 - val_loss: 0.5329 - val_round_accuracy: 0.7711\n",
      "Epoch 28/500\n",
      "215/215 [==============================] - 4s 18ms/step - loss: 0.3975 - round_accuracy: 0.8768 - val_loss: 0.5339 - val_round_accuracy: 0.7464\n"
     ]
    }
   ],
   "source": [
    "history = model.fit(train, validation_data = val, epochs = 500, callbacks = [early_stoppping])"
   ]
  },
  {
   "cell_type": "code",
   "execution_count": 126,
   "id": "d2647c07",
   "metadata": {},
   "outputs": [
    {
     "data": {
      "image/png": "[encoded data removed]",
      "text/plain": [
       "<Figure size 576x360 with 1 Axes>"
      ]
     },
     "metadata": {
      "needs_background": "light"
     },
     "output_type": "display_data"
    }
   ],
   "source": []
  },
  {
   "cell_type": "code",
   "execution_count": 142,
   "id": "22430ed8",
   "metadata": {},
   "outputs": [
    {
     "data": {
      "image/png": "[encoded data removed]",
      "text/plain": [
       "<Figure size 576x360 with 1 Axes>"
      ]
     },
     "metadata": {
      "needs_background": "light"
     },
     "output_type": "display_data"
    }
   ],
   "source": []
  },
  {
   "cell_type": "code",
   "execution_count": 153,
   "id": "9bcabae1",
   "metadata": {},
   "outputs": [
    {
     "data": {
      "image/png": "[encoded data removed]",
      "text/plain": [
       "<Figure size 576x360 with 1 Axes>"
      ]
     },
     "metadata": {
      "needs_background": "light"
     },
     "output_type": "display_data"
    }
   ],
   "source": [
    "pd.DataFrame(history.history).plot(figsize=(8,5))\n",
    "plt.grid(True)\n",
    "plt.gca().set_ylim(0, 1)\n",
    "plt.show()"
   ]
  },
  {
   "cell_type": "code",
   "execution_count": null,
   "id": "c077446d",
   "metadata": {},
   "outputs": [],
   "source": [
    "pd.DataFrame(history.history).plot(figsize=(8,5))\n",
    "plt.grid(True)\n",
    "plt.gca().set_ylim(0, 1)\n",
    "plt.show()"
   ]
  },
  {
   "cell_type": "code",
   "execution_count": null,
   "id": "69e0a065",
   "metadata": {},
   "outputs": [],
   "source": [
    "pd.DataFrame(history.history).plot(figsize=(8,5))\n",
    "plt.grid(True)\n",
    "plt.gca().set_ylim(0, 1)\n",
    "plt.show()"
   ]
  },
  {
   "cell_type": "code",
   "execution_count": null,
   "id": "272f554f",
   "metadata": {},
   "outputs": [],
   "source": [
    "pd.DataFrame(history.history).plot(figsize=(8,5))\n",
    "plt.grid(True)\n",
    "plt.gca().set_ylim(0, 1)\n",
    "plt.show()"
   ]
  },
  {
   "cell_type": "markdown",
   "id": "76c51ccb",
   "metadata": {},
   "source": [
    "# Machanist attention"
   ]
  },
  {
   "cell_type": "code",
   "execution_count": null,
   "id": "2b1f17d7",
   "metadata": {},
   "outputs": [],
   "source": [
    "tfhub_handle_encoder = 'https://tfhub.dev/tensorflow/small_bert/bert_en_uncased_L-4_H-512_A-8/1'\n",
    "tfhub_handle_preprocess = 'https://tfhub.dev/tensorflow/bert_en_uncased_preprocess/3'"
   ]
  },
  {
   "cell_type": "markdown",
   "id": "3f433008",
   "metadata": {},
   "source": [
    "# Prediction"
   ]
  },
  {
   "cell_type": "code",
   "execution_count": 28,
   "id": "9d05e562",
   "metadata": {},
   "outputs": [],
   "source": [
    "#pd.DataFrame(history.history).plot(figsize = (16,10))\n",
    "#plt.grid(True)\n",
    "#plt.gca().set_ylim(0,1)\n",
    "#plt.show()"
   ]
  },
  {
   "cell_type": "code",
   "execution_count": 105,
   "id": "8c5edc34",
   "metadata": {},
   "outputs": [],
   "source": [
    "prediction = model.predict(val)"
   ]
  },
  {
   "cell_type": "code",
   "execution_count": 100,
   "id": "6b5a2169",
   "metadata": {},
   "outputs": [
    {
     "data": {
      "text/plain": [
       "(762, 1)"
      ]
     },
     "execution_count": 100,
     "metadata": {},
     "output_type": "execute_result"
    }
   ],
   "source": [
    "prediction.shape"
   ]
  },
  {
   "cell_type": "code",
   "execution_count": 106,
   "id": "4961734a",
   "metadata": {},
   "outputs": [],
   "source": [
    "round_prediction = np.round(prediction)\n",
    "round_prediction = round_prediction.astype(np.int32)"
   ]
  },
  {
   "cell_type": "code",
   "execution_count": 93,
   "id": "66d964d8",
   "metadata": {},
   "outputs": [],
   "source": [
    "filters = (val_output.numpy() == df_copy.loc[train_size:, 'target'].to_numpy().reshape(-1,1))"
   ]
  },
  {
   "cell_type": "code",
   "execution_count": 107,
   "id": "85a2d1c8",
   "metadata": {},
   "outputs": [],
   "source": [
    "df_output = df_copy.loc[train_size: ,'text']\n",
    "df_output = df_output.to_frame()\n",
    "df_output['target'] = val_output.numpy()#df_copy.loc[train_size:, 'target']\n",
    "df_output['predict'] = round_prediction"
   ]
  },
  {
   "cell_type": "code",
   "execution_count": 108,
   "id": "3904b8b5",
   "metadata": {},
   "outputs": [],
   "source": [
    "filters = (val_output.numpy() != round_prediction)\n",
    "df_output = df_output.loc[filters]"
   ]
  },
  {
   "cell_type": "code",
   "execution_count": 69,
   "id": "47705a92",
   "metadata": {},
   "outputs": [],
   "source": [
    "df_output.to_csv(r'D:\\Data\\val_result.csv', index=False)"
   ]
  },
  {
   "cell_type": "code",
   "execution_count": 109,
   "id": "48d5f404",
   "metadata": {},
   "outputs": [
    {
     "data": {
      "text/html": [
       "<div>\n",
       "<style scoped>\n",
       "    .dataframe tbody tr th:only-of-type {\n",
       "        vertical-align: middle;\n",
       "    }\n",
       "\n",
       "    .dataframe tbody tr th {\n",
       "        vertical-align: top;\n",
       "    }\n",
       "\n",
       "    .dataframe thead th {\n",
       "        text-align: right;\n",
       "    }\n",
       "</style>\n",
       "<table border=\"1\" class=\"dataframe\">\n",
       "  <thead>\n",
       "    <tr style=\"text-align: right;\">\n",
       "      <th></th>\n",
       "      <th>text</th>\n",
       "      <th>target</th>\n",
       "      <th>predict</th>\n",
       "    </tr>\n",
       "  </thead>\n",
       "  <tbody>\n",
       "    <tr>\n",
       "      <th>6852</th>\n",
       "      <td>pt chat yes I feel the root of that be shame w...</td>\n",
       "      <td>1</td>\n",
       "      <td>0</td>\n",
       "    </tr>\n",
       "    <tr>\n",
       "      <th>6854</th>\n",
       "      <td>photo lavenderpoetrycafe the forget history of...</td>\n",
       "      <td>1</td>\n",
       "      <td>0</td>\n",
       "    </tr>\n",
       "    <tr>\n",
       "      <th>6855</th>\n",
       "      <td>trauma injury involve kid and sport usually cy...</td>\n",
       "      <td>1</td>\n",
       "      <td>0</td>\n",
       "    </tr>\n",
       "    <tr>\n",
       "      <th>6861</th>\n",
       "      <td>why marijuana be critical for research in trea...</td>\n",
       "      <td>0</td>\n",
       "      <td>1</td>\n",
       "    </tr>\n",
       "    <tr>\n",
       "      <th>6863</th>\n",
       "      <td>both kid got haircut w minimal trauma clearly ...</td>\n",
       "      <td>0</td>\n",
       "      <td>1</td>\n",
       "    </tr>\n",
       "    <tr>\n",
       "      <th>...</th>\n",
       "      <td>...</td>\n",
       "      <td>...</td>\n",
       "      <td>...</td>\n",
       "    </tr>\n",
       "    <tr>\n",
       "      <th>7603</th>\n",
       "      <td>official say a quarantine be in place at an al...</td>\n",
       "      <td>1</td>\n",
       "      <td>0</td>\n",
       "    </tr>\n",
       "    <tr>\n",
       "      <th>7606</th>\n",
       "      <td>suicide bomber kill 15 in saudi security site ...</td>\n",
       "      <td>1</td>\n",
       "      <td>0</td>\n",
       "    </tr>\n",
       "    <tr>\n",
       "      <th>7608</th>\n",
       "      <td>two giant crane hold a bridge collapse into ne...</td>\n",
       "      <td>1</td>\n",
       "      <td>0</td>\n",
       "    </tr>\n",
       "    <tr>\n",
       "      <th>7609</th>\n",
       "      <td>aria array thetawniest the out of control wild...</td>\n",
       "      <td>1</td>\n",
       "      <td>0</td>\n",
       "    </tr>\n",
       "    <tr>\n",
       "      <th>7611</th>\n",
       "      <td>police investigate after an e bike collide wit...</td>\n",
       "      <td>1</td>\n",
       "      <td>0</td>\n",
       "    </tr>\n",
       "  </tbody>\n",
       "</table>\n",
       "<p>382 rows × 3 columns</p>\n",
       "</div>"
      ],
      "text/plain": [
       "                                                   text  target  predict\n",
       "6852  pt chat yes I feel the root of that be shame w...       1        0\n",
       "6854  photo lavenderpoetrycafe the forget history of...       1        0\n",
       "6855  trauma injury involve kid and sport usually cy...       1        0\n",
       "6861  why marijuana be critical for research in trea...       0        1\n",
       "6863  both kid got haircut w minimal trauma clearly ...       0        1\n",
       "...                                                 ...     ...      ...\n",
       "7603  official say a quarantine be in place at an al...       1        0\n",
       "7606  suicide bomber kill 15 in saudi security site ...       1        0\n",
       "7608  two giant crane hold a bridge collapse into ne...       1        0\n",
       "7609  aria array thetawniest the out of control wild...       1        0\n",
       "7611  police investigate after an e bike collide wit...       1        0\n",
       "\n",
       "[382 rows x 3 columns]"
      ]
     },
     "execution_count": 109,
     "metadata": {},
     "output_type": "execute_result"
    }
   ],
   "source": [
    "df_output"
   ]
  },
  {
   "cell_type": "code",
   "execution_count": null,
   "id": "f7d90cce",
   "metadata": {},
   "outputs": [],
   "source": []
  }
 ],
 "metadata": {
  "kernelspec": {
   "display_name": "Python 3 (ipykernel)",
   "language": "python",
   "name": "python3"
  },
  "language_info": {
   "codemirror_mode": {
    "name": "ipython",
    "version": 3
   },
   "file_extension": ".py",
   "mimetype": "text/x-python",
   "name": "python",
   "nbconvert_exporter": "python",
   "pygments_lexer": "ipython3",
   "version": "3.8.0"
  }
 },
 "nbformat": 4,
 "nbformat_minor": 5
}
